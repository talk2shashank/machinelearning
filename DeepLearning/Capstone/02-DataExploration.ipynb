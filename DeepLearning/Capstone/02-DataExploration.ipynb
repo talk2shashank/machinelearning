{
 "cells": [
  {
   "cell_type": "code",
   "execution_count": null,
   "metadata": {
    "collapsed": false
   },
   "outputs": [],
   "source": [
    "# These are all the modules we'll be using later. Make sure you can import them\n",
    "# before proceeding further.\n",
    "from __future__ import print_function\n",
    "import matplotlib.pyplot as plt\n",
    "import numpy as np\n",
    "import os\n",
    "import sys\n",
    "import tarfile\n",
    "from IPython.display import display, Image\n",
    "from scipy import ndimage\n",
    "from six.moves.urllib.request import urlretrieve\n",
    "from six.moves import cPickle as pickle\n",
    "import string\n",
    "import h5py\n",
    "import matplotlib\n",
    "from collections import Counter\n",
    "# Config the matlotlib backend as plotting inline in IPython\n",
    "%matplotlib inline\n",
    "\n",
    "\n",
    "pixel_depth = 255.0  # Number of levels per pixel.\n",
    "screen_width = 800\n",
    "screen_height = 600"
   ]
  },
  {
   "cell_type": "code",
   "execution_count": null,
   "metadata": {
    "collapsed": false
   },
   "outputs": [],
   "source": [
    "def get_attr(c, i, attr):\n",
    "    d = c[c['digitStruct']['bbox'][i][0]][attr].value.squeeze()\n",
    "    if d.dtype == 'float64':\n",
    "        return d.reshape(-1)\n",
    "    return np.array([c[x].value for x in d]).squeeze()\n",
    "\n",
    "def get_label(c, i):\n",
    "    d = c[c['digitStruct']['name'][i][0]].value.tostring()\n",
    "    return d.replace('\\x00', '')\n",
    "\n",
    "def load_data(path):\n",
    "    c = h5py.File(path)\n",
    "    images = a = np.ndarray(shape=(c['digitStruct']['name'].shape[0], ), dtype='|S15')\n",
    "    labels = np.zeros((len(c['digitStruct']['bbox']), 6), dtype=float)\n",
    "    labels.fill(10)\n",
    "    tops = np.zeros((len(c['digitStruct']['bbox']), 6), dtype=float)\n",
    "    heights = np.zeros((len(c['digitStruct']['bbox']), 6), dtype=float)\n",
    "    widths = np.zeros((len(c['digitStruct']['bbox']), 6), dtype=float)\n",
    "    lefts = np.zeros((len(c['digitStruct']['bbox']), 6), dtype=float)\n",
    "    for i in xrange(c['digitStruct']['name'].shape[0]):\n",
    "        images[i] = get_label(c, i)\n",
    "        l = get_attr(c, i, 'label')\n",
    "        t = get_attr(c, i, 'top')\n",
    "        h = get_attr(c, i, 'height')\n",
    "        w = get_attr(c, i, 'width')\n",
    "        le = get_attr(c, i, 'left')\n",
    "        \n",
    "        labels[i, :l.shape[0]] = l\n",
    "        tops[i, :t.shape[0]] = t\n",
    "        heights[i, :h.shape[0]] = h\n",
    "        widths[i, :w.shape[0]] = w\n",
    "        lefts[i, :le.shape[0]] = le\n",
    "    \n",
    "        if (i % 10000 == 0):\n",
    "            print(i, \"elapsed\")\n",
    "    \n",
    "    return labels, images, tops, heights, widths, lefts"
   ]
  },
  {
   "cell_type": "code",
   "execution_count": 7,
   "metadata": {
    "collapsed": false
   },
   "outputs": [
    {
     "ename": "KeyError",
     "evalue": "\"Unable to open object (Can't insert duplicate key)\"",
     "output_type": "error",
     "traceback": [
      "\u001b[0;31m---------------------------------------------------------------------------\u001b[0m",
      "\u001b[0;31mKeyError\u001b[0m                                  Traceback (most recent call last)",
      "\u001b[0;32m<ipython-input-7-a6e8382d8325>\u001b[0m in \u001b[0;36m<module>\u001b[0;34m()\u001b[0m\n\u001b[1;32m      1\u001b[0m \u001b[0;31m#train__tuple = load_data('train/digitStruct.mat')\u001b[0m\u001b[0;34m\u001b[0m\u001b[0;34m\u001b[0m\u001b[0m\n\u001b[1;32m      2\u001b[0m \u001b[0;31m#test__tuple = load_data('test/digitStruct.mat')\u001b[0m\u001b[0;34m\u001b[0m\u001b[0;34m\u001b[0m\u001b[0m\n\u001b[0;32m----> 3\u001b[0;31m \u001b[0mextra__tuple\u001b[0m \u001b[0;34m=\u001b[0m \u001b[0mload_data\u001b[0m\u001b[0;34m(\u001b[0m\u001b[0;34m'extra/digitStruct.mat'\u001b[0m\u001b[0;34m)\u001b[0m\u001b[0;34m\u001b[0m\u001b[0m\n\u001b[0m",
      "\u001b[0;32m<ipython-input-2-f689c0fd1bc9>\u001b[0m in \u001b[0;36mload_data\u001b[0;34m(path)\u001b[0m\n\u001b[1;32m     11\u001b[0m \u001b[0;32mdef\u001b[0m \u001b[0mload_data\u001b[0m\u001b[0;34m(\u001b[0m\u001b[0mpath\u001b[0m\u001b[0;34m)\u001b[0m\u001b[0;34m:\u001b[0m\u001b[0;34m\u001b[0m\u001b[0m\n\u001b[1;32m     12\u001b[0m     \u001b[0mc\u001b[0m \u001b[0;34m=\u001b[0m \u001b[0mh5py\u001b[0m\u001b[0;34m.\u001b[0m\u001b[0mFile\u001b[0m\u001b[0;34m(\u001b[0m\u001b[0mpath\u001b[0m\u001b[0;34m)\u001b[0m\u001b[0;34m\u001b[0m\u001b[0m\n\u001b[0;32m---> 13\u001b[0;31m     \u001b[0mimages\u001b[0m \u001b[0;34m=\u001b[0m \u001b[0ma\u001b[0m \u001b[0;34m=\u001b[0m \u001b[0mnp\u001b[0m\u001b[0;34m.\u001b[0m\u001b[0mndarray\u001b[0m\u001b[0;34m(\u001b[0m\u001b[0mshape\u001b[0m\u001b[0;34m=\u001b[0m\u001b[0;34m(\u001b[0m\u001b[0mc\u001b[0m\u001b[0;34m[\u001b[0m\u001b[0;34m'digitStruct'\u001b[0m\u001b[0;34m]\u001b[0m\u001b[0;34m[\u001b[0m\u001b[0;34m'name'\u001b[0m\u001b[0;34m]\u001b[0m\u001b[0;34m.\u001b[0m\u001b[0mshape\u001b[0m\u001b[0;34m[\u001b[0m\u001b[0;36m0\u001b[0m\u001b[0;34m]\u001b[0m\u001b[0;34m,\u001b[0m \u001b[0;34m)\u001b[0m\u001b[0;34m,\u001b[0m \u001b[0mdtype\u001b[0m\u001b[0;34m=\u001b[0m\u001b[0;34m'|S15'\u001b[0m\u001b[0;34m)\u001b[0m\u001b[0;34m\u001b[0m\u001b[0m\n\u001b[0m\u001b[1;32m     14\u001b[0m     \u001b[0mlabels\u001b[0m \u001b[0;34m=\u001b[0m \u001b[0mnp\u001b[0m\u001b[0;34m.\u001b[0m\u001b[0mzeros\u001b[0m\u001b[0;34m(\u001b[0m\u001b[0;34m(\u001b[0m\u001b[0mlen\u001b[0m\u001b[0;34m(\u001b[0m\u001b[0mc\u001b[0m\u001b[0;34m[\u001b[0m\u001b[0;34m'digitStruct'\u001b[0m\u001b[0;34m]\u001b[0m\u001b[0;34m[\u001b[0m\u001b[0;34m'bbox'\u001b[0m\u001b[0;34m]\u001b[0m\u001b[0;34m)\u001b[0m\u001b[0;34m,\u001b[0m \u001b[0;36m6\u001b[0m\u001b[0;34m)\u001b[0m\u001b[0;34m,\u001b[0m \u001b[0mdtype\u001b[0m\u001b[0;34m=\u001b[0m\u001b[0mfloat\u001b[0m\u001b[0;34m)\u001b[0m\u001b[0;34m\u001b[0m\u001b[0m\n\u001b[1;32m     15\u001b[0m     \u001b[0mlabels\u001b[0m\u001b[0;34m.\u001b[0m\u001b[0mfill\u001b[0m\u001b[0;34m(\u001b[0m\u001b[0;36m10\u001b[0m\u001b[0;34m)\u001b[0m\u001b[0;34m\u001b[0m\u001b[0m\n",
      "\u001b[0;32mh5py/_objects.pyx\u001b[0m in \u001b[0;36mh5py._objects.with_phil.wrapper (/Users/travis/build/MacPython/h5py-wheels/h5py/h5py/_objects.c:2687)\u001b[0;34m()\u001b[0m\n",
      "\u001b[0;32mh5py/_objects.pyx\u001b[0m in \u001b[0;36mh5py._objects.with_phil.wrapper (/Users/travis/build/MacPython/h5py-wheels/h5py/h5py/_objects.c:2645)\u001b[0;34m()\u001b[0m\n",
      "\u001b[0;32m/Users/juno/anaconda/envs/tensorflow/lib/python2.7/site-packages/h5py/_hl/group.pyc\u001b[0m in \u001b[0;36m__getitem__\u001b[0;34m(self, name)\u001b[0m\n\u001b[1;32m    164\u001b[0m                 \u001b[0;32mraise\u001b[0m \u001b[0mValueError\u001b[0m\u001b[0;34m(\u001b[0m\u001b[0;34m\"Invalid HDF5 object reference\"\u001b[0m\u001b[0;34m)\u001b[0m\u001b[0;34m\u001b[0m\u001b[0m\n\u001b[1;32m    165\u001b[0m         \u001b[0;32melse\u001b[0m\u001b[0;34m:\u001b[0m\u001b[0;34m\u001b[0m\u001b[0m\n\u001b[0;32m--> 166\u001b[0;31m             \u001b[0moid\u001b[0m \u001b[0;34m=\u001b[0m \u001b[0mh5o\u001b[0m\u001b[0;34m.\u001b[0m\u001b[0mopen\u001b[0m\u001b[0;34m(\u001b[0m\u001b[0mself\u001b[0m\u001b[0;34m.\u001b[0m\u001b[0mid\u001b[0m\u001b[0;34m,\u001b[0m \u001b[0mself\u001b[0m\u001b[0;34m.\u001b[0m\u001b[0m_e\u001b[0m\u001b[0;34m(\u001b[0m\u001b[0mname\u001b[0m\u001b[0;34m)\u001b[0m\u001b[0;34m,\u001b[0m \u001b[0mlapl\u001b[0m\u001b[0;34m=\u001b[0m\u001b[0mself\u001b[0m\u001b[0;34m.\u001b[0m\u001b[0m_lapl\u001b[0m\u001b[0;34m)\u001b[0m\u001b[0;34m\u001b[0m\u001b[0m\n\u001b[0m\u001b[1;32m    167\u001b[0m \u001b[0;34m\u001b[0m\u001b[0m\n\u001b[1;32m    168\u001b[0m         \u001b[0motype\u001b[0m \u001b[0;34m=\u001b[0m \u001b[0mh5i\u001b[0m\u001b[0;34m.\u001b[0m\u001b[0mget_type\u001b[0m\u001b[0;34m(\u001b[0m\u001b[0moid\u001b[0m\u001b[0;34m)\u001b[0m\u001b[0;34m\u001b[0m\u001b[0m\n",
      "\u001b[0;32mh5py/_objects.pyx\u001b[0m in \u001b[0;36mh5py._objects.with_phil.wrapper (/Users/travis/build/MacPython/h5py-wheels/h5py/h5py/_objects.c:2687)\u001b[0;34m()\u001b[0m\n",
      "\u001b[0;32mh5py/_objects.pyx\u001b[0m in \u001b[0;36mh5py._objects.with_phil.wrapper (/Users/travis/build/MacPython/h5py-wheels/h5py/h5py/_objects.c:2645)\u001b[0;34m()\u001b[0m\n",
      "\u001b[0;32mh5py/h5o.pyx\u001b[0m in \u001b[0;36mh5py.h5o.open (/Users/travis/build/MacPython/h5py-wheels/h5py/h5py/h5o.c:3573)\u001b[0;34m()\u001b[0m\n",
      "\u001b[0;31mKeyError\u001b[0m: \"Unable to open object (Can't insert duplicate key)\""
     ]
    }
   ],
   "source": [
    "#train__tuple = load_data('train/digitStruct.mat')\n",
    "#test__tuple = load_data('test/digitStruct.mat')\n",
    "extra__tuple = load_data('extra/digitStruct.mat')"
   ]
  },
  {
   "cell_type": "code",
   "execution_count": 4,
   "metadata": {
    "collapsed": false
   },
   "outputs": [],
   "source": [
    "def maybe_pickle(struct, force=False):\n",
    "    if os.path.exists(struct + '.pickle') and not force:\n",
    "      # You may override by setting force=True.\n",
    "      print('%s already present - Skipping pickling.' % struct)\n",
    "    else:\n",
    "      print('Pickling %s.' % struct + '.pickle')\n",
    "      permutation = np.random.permutation(extra__tuple[1].shape[0])[:2000]\n",
    "      dataset = {\n",
    "            'train': {\n",
    "                'labels': train__tuple[0],\n",
    "                'images': train__tuple[1],  \n",
    "                'tops': train__tuple[2],\n",
    "                'heights': train__tuple[3],\n",
    "                'widths': train__tuple[4],\n",
    "                'lefts': train__tuple[5],\n",
    "                \n",
    "                \n",
    "            }, \n",
    "            'test': {\n",
    "                'labels': test__tuple[0],\n",
    "                'images': test__tuple[1],  \n",
    "                'tops': test__tuple[2],\n",
    "                'heights': test__tuple[3],\n",
    "                'widths': test__tuple[4],\n",
    "                'lefts': test__tuple[5],\n",
    "            },\n",
    "            'extra': {\n",
    "                'labels': extra__tuple[0],\n",
    "                'images': extra__tuple[1],  \n",
    "                'tops': extra__tuple[2],\n",
    "                'heights': extra__tuple[3],\n",
    "                'widths': extra__tuple[4],\n",
    "                'lefts': extra__tuple[5],\n",
    "            },\n",
    "            'valid': {\n",
    "                'labels': extra__tuple[0][permutation],\n",
    "                'images': extra__tuple[1][permutation],  \n",
    "                'tops': extra__tuple[2][permutation],\n",
    "                'heights': extra__tuple[3][permutation],\n",
    "                'widths': extra__tuple[4][permutation],\n",
    "                'lefts': extra__tuple[5][permutation],\n",
    "            }\n",
    "      }\n",
    "      try:\n",
    "        with open( struct + '.pickle', 'wb') as f:\n",
    "          pickle.dump(dataset, f, pickle.HIGHEST_PROTOCOL)\n",
    "      except Exception as e:\n",
    "        print('Unable to save data to',  struct + '.pickle', ':', e)\n",
    "  \n",
    "    return  struct + '.pickle'"
   ]
  },
  {
   "cell_type": "code",
   "execution_count": 5,
   "metadata": {
    "collapsed": false
   },
   "outputs": [
    {
     "ename": "NameError",
     "evalue": "name 'extra__tuple' is not defined",
     "output_type": "error",
     "traceback": [
      "\u001b[0;31m---------------------------------------------------------------------------\u001b[0m",
      "\u001b[0;31mNameError\u001b[0m                                 Traceback (most recent call last)",
      "\u001b[0;32m<ipython-input-5-d281b7872785>\u001b[0m in \u001b[0;36m<module>\u001b[0;34m()\u001b[0m\n\u001b[0;32m----> 1\u001b[0;31m \u001b[0mextra__tuple\u001b[0m\u001b[0;34m[\u001b[0m\u001b[0;36m0\u001b[0m\u001b[0;34m]\u001b[0m\u001b[0;34m[\u001b[0m\u001b[0;34m[\u001b[0m\u001b[0;36m1\u001b[0m\u001b[0;34m,\u001b[0m\u001b[0;36m2\u001b[0m\u001b[0;34m,\u001b[0m\u001b[0;36m3\u001b[0m\u001b[0;34m,\u001b[0m\u001b[0;36m4\u001b[0m\u001b[0;34m]\u001b[0m\u001b[0;34m]\u001b[0m\u001b[0;34m.\u001b[0m\u001b[0mshape\u001b[0m\u001b[0;34m\u001b[0m\u001b[0m\n\u001b[0m",
      "\u001b[0;31mNameError\u001b[0m: name 'extra__tuple' is not defined"
     ]
    }
   ],
   "source": [
    "extra__tuple[0][[1,2,3,4]].shape"
   ]
  },
  {
   "cell_type": "code",
   "execution_count": null,
   "metadata": {
    "collapsed": false
   },
   "outputs": [],
   "source": [
    "maybe_pickle('svhn')"
   ]
  },
  {
   "cell_type": "code",
   "execution_count": null,
   "metadata": {
    "collapsed": false
   },
   "outputs": [],
   "source": [
    "with open('svhn.pickle', 'rb') as f:\n",
    "        dataset = pickle.load(f)"
   ]
  },
  {
   "cell_type": "code",
   "execution_count": null,
   "metadata": {
    "collapsed": false
   },
   "outputs": [],
   "source": [
    "c = Counter(np.sum(dataset[\"train\"][\"tops\"] > 0, axis =1))\n",
    "l = plt.bar(c.keys(), c.values(), 1, color=\"blue\")\n",
    "\n",
    "plt.xlabel('Number of characters')\n",
    "plt.ylabel('Sample Size')\n",
    "plt.grid(True)\n",
    "plt.title('Training Dataset')\n",
    "\n",
    "plt.show()\n",
    "\n",
    "c = Counter(np.sum(dataset[\"test\"][\"tops\"] > 0, axis =1))\n",
    "l = plt.bar(c.keys(), c.values(), 1, color=\"blue\")\n",
    "\n",
    "plt.xlabel('Number of characters')\n",
    "plt.ylabel('Sample Size')\n",
    "plt.grid(True)\n",
    "plt.title('Test Dataset')\n",
    "\n",
    "plt.show()\n",
    "\n",
    "c = Counter(np.sum(dataset[\"extra\"][\"tops\"] > 0, axis =1))\n",
    "l = plt.bar(c.keys(), c.values(), 1, color=\"blue\")\n",
    "\n",
    "plt.xlabel('Number of characters')\n",
    "plt.ylabel('Sample Size')\n",
    "plt.grid(True)\n",
    "plt.title('Test Dataset')\n",
    "\n",
    "plt.show()"
   ]
  },
  {
   "cell_type": "code",
   "execution_count": null,
   "metadata": {
    "collapsed": false
   },
   "outputs": [],
   "source": [
    "np.std(np.max(dataset[\"test\"][\"heights\"], axis=1)), np.mean(np.max(dataset[\"test\"][\"heights\"], axis=1)), \\\n",
    "np.median(np.max(dataset[\"test\"][\"heights\"], axis=1))"
   ]
  },
  {
   "cell_type": "code",
   "execution_count": null,
   "metadata": {
    "collapsed": false
   },
   "outputs": [],
   "source": [
    "hist = np.histogram(dataset[\"train\"][\"heights\"] +dataset[\"train\"][\"tops\"], bins=20)\n",
    "y = hist[1][1:]\n",
    "l = plt.plot(hist[0][:], y, linewidth=1)\n",
    "\n",
    "plt.xlabel('Number of samples')\n",
    "plt.ylabel('Heights + Tops')\n",
    "plt.grid(True)\n",
    "\n",
    "plt.show()\n",
    "\n",
    "hist = np.histogram(dataset[\"train\"][\"widths\"] +dataset[\"train\"][\"lefts\"], bins=20)\n",
    "y = hist[1][1:]\n",
    "l = plt.plot(hist[0][:], y, linewidth=1)\n",
    "\n",
    "plt.xlabel('Number of samples')\n",
    "plt.ylabel('Widths + Lefts')\n",
    "plt.grid(True)\n",
    "\n",
    "plt.show()\n",
    "\n",
    "hist = np.histogram(dataset[\"extra\"][\"widths\"] +dataset[\"extra\"][\"lefts\"], bins=20)\n",
    "y = hist[1][1:]\n",
    "l = plt.plot(hist[0][:], y, linewidth=1)\n",
    "\n",
    "plt.xlabel('Number of samples')\n",
    "plt.ylabel('Widths + Lefts')\n",
    "plt.grid(True)\n",
    "\n",
    "plt.show()"
   ]
  },
  {
   "cell_type": "code",
   "execution_count": null,
   "metadata": {
    "collapsed": true
   },
   "outputs": [],
   "source": []
  },
  {
   "cell_type": "code",
   "execution_count": null,
   "metadata": {
    "collapsed": false
   },
   "outputs": [],
   "source": []
  },
  {
   "cell_type": "code",
   "execution_count": null,
   "metadata": {
    "collapsed": true
   },
   "outputs": [],
   "source": []
  }
 ],
 "metadata": {
  "anaconda-cloud": {},
  "kernelspec": {
   "display_name": "Python 2",
   "language": "python",
   "name": "python2"
  },
  "language_info": {
   "codemirror_mode": {
    "name": "ipython",
    "version": 2
   },
   "file_extension": ".py",
   "mimetype": "text/x-python",
   "name": "python",
   "nbconvert_exporter": "python",
   "pygments_lexer": "ipython2",
   "version": "2.7.12"
  }
 },
 "nbformat": 4,
 "nbformat_minor": 1
}
