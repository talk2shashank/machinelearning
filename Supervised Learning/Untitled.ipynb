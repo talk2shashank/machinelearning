{
 "cells": [
  {
   "cell_type": "code",
   "execution_count": 2,
   "metadata": {
    "collapsed": false
   },
   "outputs": [],
   "source": [
    "##Predicting Boston Housing Prices\n"
   ]
  },
  {
   "cell_type": "code",
   "execution_count": 7,
   "metadata": {
    "collapsed": false
   },
   "outputs": [],
   "source": [
    "import numpy as np\n",
    "import pandas as pd\n",
    "#import visuals as vs\n",
    "\n",
    "%matplotlib inline"
   ]
  },
  {
   "cell_type": "code",
   "execution_count": 26,
   "metadata": {
    "collapsed": false
   },
   "outputs": [
    {
     "name": "stdout",
     "output_type": "stream",
     "text": [
      "Boston housing dataset has 489 data points with 4 variables each.\n"
     ]
    }
   ],
   "source": [
    "data = pd.read_csv('housing.csv')\n",
    "price = data['MDEV']\n",
    "\n",
    "print \"Boston housing dataset has {} data points with {} variables each.\".format(*data.shape)\n",
    "\n"
   ]
  },
  {
   "cell_type": "code",
   "execution_count": 32,
   "metadata": {
    "collapsed": false
   },
   "outputs": [
    {
     "name": "stdout",
     "output_type": "stream",
     "text": [
      "Minimum price : $105,000.00\n",
      "Max price : $1,024,800.00\n",
      "Mean price : $454,342.94\n",
      "Median price : $438,900.00\n",
      "Standard deviation in price : $165,171.13\n"
     ]
    }
   ],
   "source": [
    "minimum_price = np.min(price)\n",
    "max_prince = np.max(price)\n",
    "mean_price = np.average(price)\n",
    "median_price = np.median(price)\n",
    "std_deviation_in_price = np.std(price)\n",
    "\n",
    "print \"Minimum price : ${:,.2f}\".format(minimum_price)\n",
    "print \"Max price : ${:,.2f}\".format(max_prince)\n",
    "print\"Mean price : ${:,.2f}\".format(mean_price)\n",
    "print \"Median price : ${:,.2f}\".format(median_price)\n",
    "print\"Standard deviation in price : ${:,.2f}\".format(std_deviation_in_price)"
   ]
  },
  {
   "cell_type": "code",
   "execution_count": null,
   "metadata": {
    "collapsed": true
   },
   "outputs": [],
   "source": []
  }
 ],
 "metadata": {
  "kernelspec": {
   "display_name": "Python 2",
   "language": "python",
   "name": "python2"
  },
  "language_info": {
   "codemirror_mode": {
    "name": "ipython",
    "version": 2
   },
   "file_extension": ".py",
   "mimetype": "text/x-python",
   "name": "python",
   "nbconvert_exporter": "python",
   "pygments_lexer": "ipython2",
   "version": "2.7.11"
  }
 },
 "nbformat": 4,
 "nbformat_minor": 0
}
